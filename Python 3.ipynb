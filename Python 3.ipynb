{
 "cells": [
  {
   "cell_type": "code",
   "execution_count": 104,
   "metadata": {
    "collapsed": true
   },
   "outputs": [],
   "source": [
    "%matplotlib inline\n",
    "import numpy as np\n",
    "import matplotlib.pyplot as plt"
   ]
  },
  {
   "cell_type": "code",
   "execution_count": 105,
   "metadata": {
    "collapsed": false
   },
   "outputs": [
    {
     "name": "stdout",
     "output_type": "stream",
     "text": [
      "['dados\\\\0.80S-49.02W-TAVG-Trend.txt', 'dados\\\\10.45S-48.27W-TAVG-Trend.txt', 'dados\\\\13.66S-38.81W-TAVG-Trend.txt', 'dados\\\\15.27S-47.50W-TAVG-Trend.txt', 'dados\\\\2.41S-60.27W-TAVG-Trend.txt', 'dados\\\\20.09S-44.36W-TAVG-Trend.txt', 'dados\\\\20.09S-54.60W-TAVG-Trend.txt', 'dados\\\\23.31S-42.82W-TAVG-Trend.txt', 'dados\\\\23.31S-46.31W-TAVG-Trend.txt', 'dados\\\\24.92S-49.66W-TAVG-Trend.txt', 'dados\\\\29.74S-51.69W-TAVG-Trend.txt', 'dados\\\\4.02S-40.98W-TAVG-Trend.txt', 'dados\\\\brazil-TAVG-Trend.txt']\n"
     ]
    }
   ],
   "source": [
    "import glob\n",
    "dados = glob.glob ('dados/*.txt')\n",
    "print (dados)\n",
    "#importamos os dados do tipo .txt da pasta para o jupyter"
   ]
  },
  {
   "cell_type": "code",
   "execution_count": 106,
   "metadata": {
    "collapsed": false
   },
   "outputs": [
    {
     "name": "stdout",
     "output_type": "stream",
     "text": [
      "['dados\\\\0.80S-49.02W-TAVG-Trend.txt', 'dados\\\\10.45S-48.27W-TAVG-Trend.txt', 'dados\\\\13.66S-38.81W-TAVG-Trend.txt', 'dados\\\\15.27S-47.50W-TAVG-Trend.txt', 'dados\\\\2.41S-60.27W-TAVG-Trend.txt', 'dados\\\\20.09S-44.36W-TAVG-Trend.txt', 'dados\\\\20.09S-54.60W-TAVG-Trend.txt', 'dados\\\\23.31S-42.82W-TAVG-Trend.txt', 'dados\\\\23.31S-46.31W-TAVG-Trend.txt', 'dados\\\\24.92S-49.66W-TAVG-Trend.txt', 'dados\\\\29.74S-51.69W-TAVG-Trend.txt']\n"
     ]
    }
   ],
   "source": [
    "dados_final = dados[0:11]\n",
    "print (dados_final)"
   ]
  },
  {
   "cell_type": "code",
   "execution_count": 122,
   "metadata": {
    "collapsed": false
   },
   "outputs": [
    {
     "ename": "SyntaxError",
     "evalue": "invalid syntax (<ipython-input-122-d8cbe4219bcd>, line 2)",
     "output_type": "error",
     "traceback": [
      "\u001b[0;36m  File \u001b[0;32m\"<ipython-input-122-d8cbe4219bcd>\"\u001b[0;36m, line \u001b[0;32m2\u001b[0m\n\u001b[0;31m    dat = np.loadtxt(20.09S-44.36W-TAVG-Trend, comments = '%')\u001b[0m\n\u001b[0m                          ^\u001b[0m\n\u001b[0;31mSyntaxError\u001b[0m\u001b[0;31m:\u001b[0m invalid syntax\n"
     ]
    }
   ],
   "source": [
    "for dado in dados_final:\n",
    "    dat = np.loadtxt(20.09S-44.36W-TAVG-Trend, comments = '%') \n",
    "    \n",
    "# Importamos todos os dados e atribuímos a dat e comments = % tira os comentários"
   ]
  },
  {
   "cell_type": "code",
   "execution_count": 108,
   "metadata": {
    "collapsed": false
   },
   "outputs": [],
   "source": [
    "def meses_e_anos_para_anos_decimais (meses, anos):\n",
    "    assert type (meses) == int or type(meses), 'O mês deve ser um número inteiro'\n",
    "    assert type (anos) == int or type(anos), 'O ano primeiramente deve ser um número inteiro'\n",
    "    anos_decimal = anos + 1/12 * (meses-1)\n",
    "    return anos_decimal\n",
    "\n",
    "#definimos a função com suas variáveis \n",
    "#assert type serve para fazer o teste e como deve ser numeros inteiros então colocamos int somente para entrar valores inteiros"
   ]
  },
  {
   "cell_type": "code",
   "execution_count": 109,
   "metadata": {
    "collapsed": false
   },
   "outputs": [
    {
     "data": {
      "text/plain": [
       "array([ 1832.        ,  1832.08333333,  1832.16666667, ...,  2013.5       ,\n",
       "        2013.58333333,  2013.66666667])"
      ]
     },
     "execution_count": 109,
     "metadata": {},
     "output_type": "execute_result"
    }
   ],
   "source": [
    "meses_e_anos_para_anos_decimais(dat[:,1] ,dat[:,0])\n",
    "# pela função trazemos os valores para transformar em anos decimais"
   ]
  },
  {
   "cell_type": "code",
   "execution_count": 118,
   "metadata": {
    "collapsed": false
   },
   "outputs": [
    {
     "ename": "TypeError",
     "evalue": "Can't convert 'float' object to str implicitly",
     "output_type": "error",
     "traceback": [
      "\u001b[0;31m---------------------------------------------------------------------------\u001b[0m",
      "\u001b[0;31mTypeError\u001b[0m                                 Traceback (most recent call last)",
      "\u001b[0;32m<ipython-input-118-c3d9e9be3e4b>\u001b[0m in \u001b[0;36m<module>\u001b[0;34m()\u001b[0m\n\u001b[0;32m----> 1\u001b[0;31m \u001b[0mmeses_e_anos_para_anos_decimais\u001b[0m\u001b[1;33m(\u001b[0m\u001b[1;36m3.5\u001b[0m \u001b[1;33m,\u001b[0m \u001b[1;34m'fw'\u001b[0m\u001b[1;33m)\u001b[0m\u001b[1;33m\u001b[0m\u001b[0m\n\u001b[0m\u001b[1;32m      2\u001b[0m \u001b[1;33m\u001b[0m\u001b[0m\n\u001b[1;32m      3\u001b[0m \u001b[1;31m#utilizamos teste para saber que fizemos estava certo\u001b[0m\u001b[1;33m\u001b[0m\u001b[1;33m\u001b[0m\u001b[0m\n",
      "\u001b[0;32m<ipython-input-108-ec5f9a0538d4>\u001b[0m in \u001b[0;36mmeses_e_anos_para_anos_decimais\u001b[0;34m(meses, anos)\u001b[0m\n\u001b[1;32m      2\u001b[0m     \u001b[1;32massert\u001b[0m \u001b[0mtype\u001b[0m \u001b[1;33m(\u001b[0m\u001b[0mmeses\u001b[0m\u001b[1;33m)\u001b[0m \u001b[1;33m==\u001b[0m \u001b[0mint\u001b[0m \u001b[1;32mor\u001b[0m \u001b[0mtype\u001b[0m\u001b[1;33m(\u001b[0m\u001b[0mmeses\u001b[0m\u001b[1;33m)\u001b[0m\u001b[1;33m,\u001b[0m \u001b[1;34m'O mês deve ser um número inteiro'\u001b[0m\u001b[1;33m\u001b[0m\u001b[0m\n\u001b[1;32m      3\u001b[0m     \u001b[1;32massert\u001b[0m \u001b[0mtype\u001b[0m \u001b[1;33m(\u001b[0m\u001b[0manos\u001b[0m\u001b[1;33m)\u001b[0m \u001b[1;33m==\u001b[0m \u001b[0mint\u001b[0m \u001b[1;32mor\u001b[0m \u001b[0mtype\u001b[0m\u001b[1;33m(\u001b[0m\u001b[0manos\u001b[0m\u001b[1;33m)\u001b[0m\u001b[1;33m,\u001b[0m \u001b[1;34m'O ano primeiramente deve ser um número inteiro'\u001b[0m\u001b[1;33m\u001b[0m\u001b[0m\n\u001b[0;32m----> 4\u001b[0;31m     \u001b[0manos_decimal\u001b[0m \u001b[1;33m=\u001b[0m \u001b[0manos\u001b[0m \u001b[1;33m+\u001b[0m \u001b[1;36m1\u001b[0m\u001b[1;33m/\u001b[0m\u001b[1;36m12\u001b[0m \u001b[1;33m*\u001b[0m \u001b[1;33m(\u001b[0m\u001b[0mmeses\u001b[0m\u001b[1;33m-\u001b[0m\u001b[1;36m1\u001b[0m\u001b[1;33m)\u001b[0m\u001b[1;33m\u001b[0m\u001b[0m\n\u001b[0m\u001b[1;32m      5\u001b[0m     \u001b[1;32mreturn\u001b[0m \u001b[0manos_decimal\u001b[0m\u001b[1;33m\u001b[0m\u001b[0m\n\u001b[1;32m      6\u001b[0m \u001b[1;33m\u001b[0m\u001b[0m\n",
      "\u001b[0;31mTypeError\u001b[0m: Can't convert 'float' object to str implicitly"
     ]
    }
   ],
   "source": [
    "meses_e_anos_para_anos_decimais(3.5 , 'fw')\n",
    "\n",
    "#utilizamos teste para saber que fizemos estava certo"
   ]
  },
  {
   "cell_type": "code",
   "execution_count": 143,
   "metadata": {
    "collapsed": false
   },
   "outputs": [],
   "source": [
    "def temperatura_para_anos_decimais_anomalias_e_incertezas (matriz_dados):\n",
    "    assert type (matriz_dados) == array2d, \"O Valor da temperatura será um tipo float\"\n",
    "    anos_decimal = meses_e_anos_para_anos_decimais(matriz_dados[:,1] ,matriz_dados[:,0])\n",
    "    anomalia_anual = np.nan_to_num (matriz_dados[:, 4]) \n",
    "    incerteza_anual =  np.nan_to_num (matriz_dados[:,5])\n",
    "    anomalia_10 = np.nan_to_num (matriz_dados[:, 8])\n",
    "    incerteza_10 = np.nan_to_num (matriz_dados[:, 9])\n",
    "    return anos_decimal, anomalia_anual, incerteza_anual, anomalia_10, incerteza_10"
   ]
  },
  {
   "cell_type": "code",
   "execution_count": 144,
   "metadata": {
    "collapsed": false
   },
   "outputs": [
    {
     "ename": "NameError",
     "evalue": "name 'array2d' is not defined",
     "output_type": "error",
     "traceback": [
      "\u001b[0;31m---------------------------------------------------------------------------\u001b[0m",
      "\u001b[0;31mNameError\u001b[0m                                 Traceback (most recent call last)",
      "\u001b[0;32m<ipython-input-144-aa4b9d9a0690>\u001b[0m in \u001b[0;36m<module>\u001b[0;34m()\u001b[0m\n\u001b[1;32m      1\u001b[0m \u001b[0maaaa\u001b[0m\u001b[1;33m=\u001b[0m \u001b[0mnp\u001b[0m\u001b[1;33m.\u001b[0m\u001b[0mloadtxt\u001b[0m\u001b[1;33m(\u001b[0m\u001b[1;34m'dados/20.09S-44.36W-TAVG-Trend.txt'\u001b[0m\u001b[1;33m,\u001b[0m \u001b[0mcomments\u001b[0m \u001b[1;33m=\u001b[0m \u001b[1;34m'%'\u001b[0m\u001b[1;33m)\u001b[0m\u001b[1;33m\u001b[0m\u001b[0m\n\u001b[0;32m----> 2\u001b[0;31m \u001b[0ma\u001b[0m\u001b[1;33m,\u001b[0m\u001b[0mb\u001b[0m\u001b[1;33m,\u001b[0m\u001b[0mc\u001b[0m\u001b[1;33m,\u001b[0m\u001b[0md\u001b[0m\u001b[1;33m,\u001b[0m\u001b[0me\u001b[0m \u001b[1;33m=\u001b[0m \u001b[0mtemperatura_para_anos_decimais_anomalias_e_incertezas\u001b[0m \u001b[1;33m(\u001b[0m\u001b[0maaaa\u001b[0m\u001b[1;33m)\u001b[0m\u001b[1;33m\u001b[0m\u001b[0m\n\u001b[0m",
      "\u001b[0;32m<ipython-input-143-f3df11eb7666>\u001b[0m in \u001b[0;36mtemperatura_para_anos_decimais_anomalias_e_incertezas\u001b[0;34m(matriz_dados)\u001b[0m\n\u001b[1;32m      1\u001b[0m \u001b[1;32mdef\u001b[0m \u001b[0mtemperatura_para_anos_decimais_anomalias_e_incertezas\u001b[0m \u001b[1;33m(\u001b[0m\u001b[0mmatriz_dados\u001b[0m\u001b[1;33m)\u001b[0m\u001b[1;33m:\u001b[0m\u001b[1;33m\u001b[0m\u001b[0m\n\u001b[0;32m----> 2\u001b[0;31m     \u001b[1;32massert\u001b[0m \u001b[0mtype\u001b[0m \u001b[1;33m(\u001b[0m\u001b[0mmatriz_dados\u001b[0m\u001b[1;33m)\u001b[0m \u001b[1;33m==\u001b[0m \u001b[0marray2d\u001b[0m\u001b[1;33m,\u001b[0m \u001b[1;34m\"O Valor da temperatura será um tipo float\"\u001b[0m\u001b[1;33m\u001b[0m\u001b[0m\n\u001b[0m\u001b[1;32m      3\u001b[0m     \u001b[0manos_decimal\u001b[0m \u001b[1;33m=\u001b[0m \u001b[0mmeses_e_anos_para_anos_decimais\u001b[0m\u001b[1;33m(\u001b[0m\u001b[0mmatriz_dados\u001b[0m\u001b[1;33m[\u001b[0m\u001b[1;33m:\u001b[0m\u001b[1;33m,\u001b[0m\u001b[1;36m1\u001b[0m\u001b[1;33m]\u001b[0m \u001b[1;33m,\u001b[0m\u001b[0mmatriz_dados\u001b[0m\u001b[1;33m[\u001b[0m\u001b[1;33m:\u001b[0m\u001b[1;33m,\u001b[0m\u001b[1;36m0\u001b[0m\u001b[1;33m]\u001b[0m\u001b[1;33m)\u001b[0m\u001b[1;33m\u001b[0m\u001b[0m\n\u001b[1;32m      4\u001b[0m     \u001b[0manomalia_anual\u001b[0m \u001b[1;33m=\u001b[0m \u001b[0mnp\u001b[0m\u001b[1;33m.\u001b[0m\u001b[0mnan_to_num\u001b[0m \u001b[1;33m(\u001b[0m\u001b[0mmatriz_dados\u001b[0m\u001b[1;33m[\u001b[0m\u001b[1;33m:\u001b[0m\u001b[1;33m,\u001b[0m \u001b[1;36m4\u001b[0m\u001b[1;33m]\u001b[0m\u001b[1;33m)\u001b[0m\u001b[1;33m\u001b[0m\u001b[0m\n\u001b[1;32m      5\u001b[0m     \u001b[0mincerteza_anual\u001b[0m \u001b[1;33m=\u001b[0m  \u001b[0mnp\u001b[0m\u001b[1;33m.\u001b[0m\u001b[0mnan_to_num\u001b[0m \u001b[1;33m(\u001b[0m\u001b[0mmatriz_dados\u001b[0m\u001b[1;33m[\u001b[0m\u001b[1;33m:\u001b[0m\u001b[1;33m,\u001b[0m\u001b[1;36m5\u001b[0m\u001b[1;33m]\u001b[0m\u001b[1;33m)\u001b[0m\u001b[1;33m\u001b[0m\u001b[0m\n",
      "\u001b[0;31mNameError\u001b[0m: name 'array2d' is not defined"
     ]
    }
   ],
   "source": [
    "aaaa= np.loadtxt('dados/20.09S-44.36W-TAVG-Trend.txt', comments = '%') \n",
    "a,b,c,d,e = temperatura_para_anos_decimais_anomalias_e_incertezas (aaaa)"
   ]
  },
  {
   "cell_type": "code",
   "execution_count": 142,
   "metadata": {
    "collapsed": false
   },
   "outputs": [
    {
     "data": {
      "text/plain": [
       "numpy.ndarray"
      ]
     },
     "execution_count": 142,
     "metadata": {},
     "output_type": "execute_result"
    }
   ],
   "source": [
    "type(aaaa)"
   ]
  },
  {
   "cell_type": "code",
   "execution_count": 138,
   "metadata": {
    "collapsed": false
   },
   "outputs": [
    {
     "ename": "AssertionError",
     "evalue": "",
     "output_type": "error",
     "traceback": [
      "\u001b[0;31m---------------------------------------------------------------------------\u001b[0m",
      "\u001b[0;31mAssertionError\u001b[0m                            Traceback (most recent call last)",
      "\u001b[0;32m<ipython-input-138-94edab8fdba3>\u001b[0m in \u001b[0;36m<module>\u001b[0;34m()\u001b[0m\n\u001b[0;32m----> 1\u001b[0;31m \u001b[1;32massert\u001b[0m \u001b[0mtype\u001b[0m\u001b[1;33m(\u001b[0m\u001b[0maaaa\u001b[0m\u001b[1;33m)\u001b[0m\u001b[1;33m==\u001b[0m \u001b[0mfloat\u001b[0m\u001b[1;33m\u001b[0m\u001b[0m\n\u001b[0m",
      "\u001b[0;31mAssertionError\u001b[0m: "
     ]
    }
   ],
   "source": [
    "assert type(aaaa)== float"
   ]
  },
  {
   "cell_type": "code",
   "execution_count": null,
   "metadata": {
    "collapsed": true
   },
   "outputs": [],
   "source": []
  }
 ],
 "metadata": {
  "anaconda-cloud": {},
  "kernelspec": {
   "display_name": "Python [conda root]",
   "language": "python",
   "name": "conda-root-py"
  },
  "language_info": {
   "codemirror_mode": {
    "name": "ipython",
    "version": 3
   },
   "file_extension": ".py",
   "mimetype": "text/x-python",
   "name": "python",
   "nbconvert_exporter": "python",
   "pygments_lexer": "ipython3",
   "version": "3.5.2"
  }
 },
 "nbformat": 4,
 "nbformat_minor": 1
}
